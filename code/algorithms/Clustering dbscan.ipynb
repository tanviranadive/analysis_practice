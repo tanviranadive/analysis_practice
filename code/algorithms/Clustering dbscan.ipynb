{
 "cells": [
  {
   "cell_type": "code",
   "execution_count": 2,
   "metadata": {},
   "outputs": [],
   "source": [
    "library(readr)"
   ]
  },
  {
   "cell_type": "code",
   "execution_count": 2,
   "metadata": {},
   "outputs": [],
   "source": [
    "data1 = read.csv(file = \"/home/tanvi/Downloads/1-6m-accidents-traffic-flow-over-16-years/accidents_2012_to_2014.csv\")\n",
    "\n",
    "data2 = read.csv(file = \"/home/tanvi/Downloads/1-6m-accidents-traffic-flow-over-16-years/accidents_2009_to_2011.csv\")\n",
    "\n",
    "data <- rbind.data.frame(data1, data2)"
   ]
  },
  {
   "cell_type": "code",
   "execution_count": 6,
   "metadata": {},
   "outputs": [
    {
     "name": "stderr",
     "output_type": "stream",
     "text": [
      "Warning message:\n",
      "“Missing column names filled in: 'X1' [1]”Parsed with column specification:\n",
      "cols(\n",
      "  .default = col_character(),\n",
      "  X1 = col_integer(),\n",
      "  Location_Easting_OSGR = col_integer(),\n",
      "  Location_Northing_OSGR = col_integer(),\n",
      "  Longitude = col_double(),\n",
      "  Latitude = col_double(),\n",
      "  Police_Force = col_integer(),\n",
      "  Accident_Severity = col_integer(),\n",
      "  Number_of_Vehicles = col_integer(),\n",
      "  Number_of_Casualties = col_integer(),\n",
      "  Day_of_Week = col_integer(),\n",
      "  Time = col_time(format = \"\"),\n",
      "  `Local_Authority_(District)` = col_integer(),\n",
      "  `1st_Road_Class` = col_integer(),\n",
      "  `1st_Road_Number` = col_integer(),\n",
      "  Speed_limit = col_integer(),\n",
      "  `2nd_Road_Class` = col_integer(),\n",
      "  `2nd_Road_Number` = col_integer(),\n",
      "  Urban_or_Rural_Area = col_integer(),\n",
      "  Year = col_integer()\n",
      ")\n",
      "See spec(...) for full column specifications.\n"
     ]
    }
   ],
   "source": [
    "#londonEN1 <- read_csv(\"/home/tanvi/Downloads/1-6m-accidents-traffic-flow-over-16-years/accidents_2009_to_2011.csv\",\n",
    "#                      col_types = cols_only(Location_Easting_OSGR = col_guess(),\n",
    "#                                            Location_Northing_OSGR = col_guess()))\n",
    "#\n",
    "#londonEN2 <- read_csv(\"/home/tanvi/Downloads/1-6m-accidents-traffic-flow-over-16-years/accidents_2012_to_2014.csv\",\n",
    " #                     col_types = cols_only(Location_Easting_OSGR = col_guess(),\n",
    " #                                           Location_Northing_OSGR = col_guess()))\n",
    "#\n",
    "#londonEN <- rbind.data.frame(londonEN1,londonEN2)\n",
    "\n",
    "londonEN1 <- read_csv(\"accidents_london_2012_2014\")\n",
    "londonEN = rbind.data.frame(londonEN1)\n"
   ]
  },
  {
   "cell_type": "code",
   "execution_count": null,
   "metadata": {},
   "outputs": [],
   "source": []
  },
  {
   "cell_type": "code",
   "execution_count": 7,
   "metadata": {},
   "outputs": [
    {
     "name": "stderr",
     "output_type": "stream",
     "text": [
      "Warning message in install.packages(\"rgdal\"):\n",
      "“installation of package ‘rgdal’ had non-zero exit status”Updating HTML index of packages in '.Library'\n",
      "Making 'packages.html' ... done\n"
     ]
    }
   ],
   "source": [
    "install.packages(\"rgdal\")"
   ]
  },
  {
   "cell_type": "code",
   "execution_count": 5,
   "metadata": {},
   "outputs": [
    {
     "name": "stdout",
     "output_type": "stream",
     "text": [
      "'data.frame':\t934139 obs. of  33 variables:\n",
      " $ Accident_Index                             : Factor w/ 561394 levels \"2.01E+100\",\"2.01E+101\",..: 184 185 186 187 188 189 190 191 192 193 ...\n",
      " $ Location_Easting_OSGR                      : int  527200 524930 525860 524980 526170 526090 527780 524010 527710 525120 ...\n",
      " $ Location_Northing_OSGR                     : int  178760 181430 178080 181030 179200 177600 179680 182080 179290 180060 ...\n",
      " $ Longitude                                  : num  -0.169 -0.201 -0.189 -0.2 -0.184 ...\n",
      " $ Latitude                                   : num  51.5 51.5 51.5 51.5 51.5 ...\n",
      " $ Police_Force                               : int  1 1 1 1 1 1 1 1 1 1 ...\n",
      " $ Accident_Severity                          : int  3 3 3 3 3 3 3 3 3 3 ...\n",
      " $ Number_of_Vehicles                         : int  2 2 2 1 1 2 1 2 2 2 ...\n",
      " $ Number_of_Casualties                       : int  1 1 1 1 1 1 1 1 1 1 ...\n",
      " $ Date                                       : Factor w/ 2191 levels \"01/01/2012\",\"01/01/2013\",..: 649 109 325 613 577 649 397 217 217 109 ...\n",
      " $ Day_of_Week                                : int  5 4 3 4 3 5 5 7 7 4 ...\n",
      " $ Time                                       : Factor w/ 1440 levels \"\",\"00:01\",\"00:02\",..: 1236 1021 608 741 1225 451 841 690 836 1181 ...\n",
      " $ Local_Authority_.District.                 : int  12 1 12 12 12 12 1 12 12 12 ...\n",
      " $ Local_Authority_.Highway.                  : Factor w/ 207 levels \"E06000001\",\"E06000002\",..: 112 125 112 112 112 112 125 112 112 112 ...\n",
      " $ X1st_Road_Class                            : int  3 4 3 5 4 3 3 4 6 5 ...\n",
      " $ X1st_Road_Number                           : int  308 412 3220 0 325 308 3216 450 0 0 ...\n",
      " $ Road_Type                                  : Factor w/ 6 levels \"Dual carriageway\",..: 4 4 2 4 4 4 4 3 2 4 ...\n",
      " $ Speed_limit                                : int  30 30 30 30 30 30 30 30 30 30 ...\n",
      " $ Junction_Detail                            : logi  NA NA NA NA NA NA ...\n",
      " $ Junction_Control                           : Factor w/ 5 levels \"\",\"Authorised person\",..: 3 4 4 4 4 3 3 4 4 4 ...\n",
      " $ X2nd_Road_Class                            : int  5 6 6 6 6 3 3 5 6 6 ...\n",
      " $ X2nd_Road_Number                           : int  0 0 0 0 0 3220 4 0 0 0 ...\n",
      " $ Pedestrian_Crossing.Human_Control          : Factor w/ 3 levels \"Control by other authorised person\",..: 3 3 3 3 3 3 3 3 3 3 ...\n",
      " $ Pedestrian_Crossing.Physical_Facilities    : Factor w/ 6 levels \"Central refuge\",..: 5 3 4 3 3 5 5 6 3 3 ...\n",
      " $ Light_Conditions                           : Factor w/ 5 levels \"Darkeness: No street lighting\",..: 3 3 5 5 3 3 5 5 5 3 ...\n",
      " $ Weather_Conditions                         : Factor w/ 10 levels \"Fine with high winds\",..: 2 2 2 2 2 6 2 2 2 6 ...\n",
      " $ Road_Surface_Conditions                    : Factor w/ 6 levels \"\",\"Dry\",\"Flood (Over 3cm of water)\",..: 2 2 2 2 2 6 2 2 2 6 ...\n",
      " $ Special_Conditions_at_Site                 : Factor w/ 9 levels \"\",\"Auto traffic signal partly defective\",..: 5 5 5 5 5 5 5 5 5 5 ...\n",
      " $ Carriageway_Hazards                        : Factor w/ 7 levels \"\",\"Any animal (except a ridden horse)\",..: 5 5 5 5 5 5 5 5 5 5 ...\n",
      " $ Urban_or_Rural_Area                        : int  1 1 1 1 1 1 1 1 1 1 ...\n",
      " $ Did_Police_Officer_Attend_Scene_of_Accident: Factor w/ 3 levels \"\",\"No\",\"Yes\": 3 3 3 3 3 3 3 3 2 3 ...\n",
      " $ LSOA_of_Accident_Location                  : Factor w/ 35266 levels \"\",\"E01000001\",..: 2723 4610 2793 2787 2790 2811 2720 2805 2720 2727 ...\n",
      " $ Year                                       : int  2012 2012 2012 2012 2012 2012 2012 2012 2012 2012 ...\n"
     ]
    },
    {
     "data": {
      "text/html": [
       "<ol class=list-inline>\n",
       "\t<li>'Accident_Index'</li>\n",
       "\t<li>'Location_Easting_OSGR'</li>\n",
       "\t<li>'Location_Northing_OSGR'</li>\n",
       "\t<li>'Longitude'</li>\n",
       "\t<li>'Latitude'</li>\n",
       "\t<li>'Police_Force'</li>\n",
       "\t<li>'Accident_Severity'</li>\n",
       "\t<li>'Number_of_Vehicles'</li>\n",
       "\t<li>'Number_of_Casualties'</li>\n",
       "\t<li>'Date'</li>\n",
       "\t<li>'Day_of_Week'</li>\n",
       "\t<li>'Time'</li>\n",
       "\t<li>'Local_Authority_.District.'</li>\n",
       "\t<li>'Local_Authority_.Highway.'</li>\n",
       "\t<li>'X1st_Road_Class'</li>\n",
       "\t<li>'X1st_Road_Number'</li>\n",
       "\t<li>'Road_Type'</li>\n",
       "\t<li>'Speed_limit'</li>\n",
       "\t<li>'Junction_Detail'</li>\n",
       "\t<li>'Junction_Control'</li>\n",
       "\t<li>'X2nd_Road_Class'</li>\n",
       "\t<li>'X2nd_Road_Number'</li>\n",
       "\t<li>'Pedestrian_Crossing.Human_Control'</li>\n",
       "\t<li>'Pedestrian_Crossing.Physical_Facilities'</li>\n",
       "\t<li>'Light_Conditions'</li>\n",
       "\t<li>'Weather_Conditions'</li>\n",
       "\t<li>'Road_Surface_Conditions'</li>\n",
       "\t<li>'Special_Conditions_at_Site'</li>\n",
       "\t<li>'Carriageway_Hazards'</li>\n",
       "\t<li>'Urban_or_Rural_Area'</li>\n",
       "\t<li>'Did_Police_Officer_Attend_Scene_of_Accident'</li>\n",
       "\t<li>'LSOA_of_Accident_Location'</li>\n",
       "\t<li>'Year'</li>\n",
       "</ol>\n"
      ],
      "text/latex": [
       "\\begin{enumerate*}\n",
       "\\item 'Accident\\_Index'\n",
       "\\item 'Location\\_Easting\\_OSGR'\n",
       "\\item 'Location\\_Northing\\_OSGR'\n",
       "\\item 'Longitude'\n",
       "\\item 'Latitude'\n",
       "\\item 'Police\\_Force'\n",
       "\\item 'Accident\\_Severity'\n",
       "\\item 'Number\\_of\\_Vehicles'\n",
       "\\item 'Number\\_of\\_Casualties'\n",
       "\\item 'Date'\n",
       "\\item 'Day\\_of\\_Week'\n",
       "\\item 'Time'\n",
       "\\item 'Local\\_Authority\\_.District.'\n",
       "\\item 'Local\\_Authority\\_.Highway.'\n",
       "\\item 'X1st\\_Road\\_Class'\n",
       "\\item 'X1st\\_Road\\_Number'\n",
       "\\item 'Road\\_Type'\n",
       "\\item 'Speed\\_limit'\n",
       "\\item 'Junction\\_Detail'\n",
       "\\item 'Junction\\_Control'\n",
       "\\item 'X2nd\\_Road\\_Class'\n",
       "\\item 'X2nd\\_Road\\_Number'\n",
       "\\item 'Pedestrian\\_Crossing.Human\\_Control'\n",
       "\\item 'Pedestrian\\_Crossing.Physical\\_Facilities'\n",
       "\\item 'Light\\_Conditions'\n",
       "\\item 'Weather\\_Conditions'\n",
       "\\item 'Road\\_Surface\\_Conditions'\n",
       "\\item 'Special\\_Conditions\\_at\\_Site'\n",
       "\\item 'Carriageway\\_Hazards'\n",
       "\\item 'Urban\\_or\\_Rural\\_Area'\n",
       "\\item 'Did\\_Police\\_Officer\\_Attend\\_Scene\\_of\\_Accident'\n",
       "\\item 'LSOA\\_of\\_Accident\\_Location'\n",
       "\\item 'Year'\n",
       "\\end{enumerate*}\n"
      ],
      "text/markdown": [
       "1. 'Accident_Index'\n",
       "2. 'Location_Easting_OSGR'\n",
       "3. 'Location_Northing_OSGR'\n",
       "4. 'Longitude'\n",
       "5. 'Latitude'\n",
       "6. 'Police_Force'\n",
       "7. 'Accident_Severity'\n",
       "8. 'Number_of_Vehicles'\n",
       "9. 'Number_of_Casualties'\n",
       "10. 'Date'\n",
       "11. 'Day_of_Week'\n",
       "12. 'Time'\n",
       "13. 'Local_Authority_.District.'\n",
       "14. 'Local_Authority_.Highway.'\n",
       "15. 'X1st_Road_Class'\n",
       "16. 'X1st_Road_Number'\n",
       "17. 'Road_Type'\n",
       "18. 'Speed_limit'\n",
       "19. 'Junction_Detail'\n",
       "20. 'Junction_Control'\n",
       "21. 'X2nd_Road_Class'\n",
       "22. 'X2nd_Road_Number'\n",
       "23. 'Pedestrian_Crossing.Human_Control'\n",
       "24. 'Pedestrian_Crossing.Physical_Facilities'\n",
       "25. 'Light_Conditions'\n",
       "26. 'Weather_Conditions'\n",
       "27. 'Road_Surface_Conditions'\n",
       "28. 'Special_Conditions_at_Site'\n",
       "29. 'Carriageway_Hazards'\n",
       "30. 'Urban_or_Rural_Area'\n",
       "31. 'Did_Police_Officer_Attend_Scene_of_Accident'\n",
       "32. 'LSOA_of_Accident_Location'\n",
       "33. 'Year'\n",
       "\n",
       "\n"
      ],
      "text/plain": [
       " [1] \"Accident_Index\"                             \n",
       " [2] \"Location_Easting_OSGR\"                      \n",
       " [3] \"Location_Northing_OSGR\"                     \n",
       " [4] \"Longitude\"                                  \n",
       " [5] \"Latitude\"                                   \n",
       " [6] \"Police_Force\"                               \n",
       " [7] \"Accident_Severity\"                          \n",
       " [8] \"Number_of_Vehicles\"                         \n",
       " [9] \"Number_of_Casualties\"                       \n",
       "[10] \"Date\"                                       \n",
       "[11] \"Day_of_Week\"                                \n",
       "[12] \"Time\"                                       \n",
       "[13] \"Local_Authority_.District.\"                 \n",
       "[14] \"Local_Authority_.Highway.\"                  \n",
       "[15] \"X1st_Road_Class\"                            \n",
       "[16] \"X1st_Road_Number\"                           \n",
       "[17] \"Road_Type\"                                  \n",
       "[18] \"Speed_limit\"                                \n",
       "[19] \"Junction_Detail\"                            \n",
       "[20] \"Junction_Control\"                           \n",
       "[21] \"X2nd_Road_Class\"                            \n",
       "[22] \"X2nd_Road_Number\"                           \n",
       "[23] \"Pedestrian_Crossing.Human_Control\"          \n",
       "[24] \"Pedestrian_Crossing.Physical_Facilities\"    \n",
       "[25] \"Light_Conditions\"                           \n",
       "[26] \"Weather_Conditions\"                         \n",
       "[27] \"Road_Surface_Conditions\"                    \n",
       "[28] \"Special_Conditions_at_Site\"                 \n",
       "[29] \"Carriageway_Hazards\"                        \n",
       "[30] \"Urban_or_Rural_Area\"                        \n",
       "[31] \"Did_Police_Officer_Attend_Scene_of_Accident\"\n",
       "[32] \"LSOA_of_Accident_Location\"                  \n",
       "[33] \"Year\"                                       "
      ]
     },
     "metadata": {},
     "output_type": "display_data"
    }
   ],
   "source": [
    "for( i in 2:ncol(data) ) {\n",
    "  if( class(data[[i]]) == \"character\" ) {\n",
    "    data[[i]] <- as.factor(data[[i]])\n",
    "  }\n",
    "}\n",
    "\n",
    "str(data)\n",
    "names(data)"
   ]
  },
  {
   "cell_type": "code",
   "execution_count": 6,
   "metadata": {},
   "outputs": [],
   "source": [
    "pca_data <- data[c(2,3,4,5,11,22,23)]\n",
    "pca_data[[6]] <- as.integer(pca_data[[6]])\n",
    "pca_data[[7]] <- as.integer(pca_data[[7]])"
   ]
  },
  {
   "cell_type": "code",
   "execution_count": 7,
   "metadata": {},
   "outputs": [
    {
     "name": "stderr",
     "output_type": "stream",
     "text": [
      "Updating HTML index of packages in '.Library'\n",
      "Making 'packages.html' ... done\n"
     ]
    }
   ],
   "source": [
    "install.packages(\"mice\")"
   ]
  },
  {
   "cell_type": "code",
   "execution_count": 11,
   "metadata": {},
   "outputs": [
    {
     "name": "stderr",
     "output_type": "stream",
     "text": [
      "Loading required package: lattice\n",
      "\n",
      "Attaching package: ‘mice’\n",
      "\n",
      "The following objects are masked from ‘package:base’:\n",
      "\n",
      "    cbind, rbind\n",
      "\n"
     ]
    },
    {
     "ename": "ERROR",
     "evalue": "Error in summary(pca_data): object 'pca_data' not found\n",
     "output_type": "error",
     "traceback": [
      "Error in summary(pca_data): object 'pca_data' not found\nTraceback:\n",
      "1. summary(pca_data)"
     ]
    }
   ],
   "source": [
    "\n",
    "library(mice) \n",
    "\n",
    "summary(pca_data)\n",
    "pca_data_imputed <- complete(mice(pca_data))"
   ]
  },
  {
   "cell_type": "code",
   "execution_count": 9,
   "metadata": {},
   "outputs": [
    {
     "data": {
      "text/plain": [
       "Importance of components:\n",
       "                          PC1    PC2    PC3    PC4    PC5     PC6      PC7\n",
       "Standard deviation     1.6973 1.0619 1.0001 0.9980 0.9973 0.02395 0.004469\n",
       "Proportion of Variance 0.4116 0.1611 0.1429 0.1423 0.1421 0.00008 0.000000\n",
       "Cumulative Proportion  0.4116 0.5726 0.7155 0.8578 0.9999 1.00000 1.000000"
      ]
     },
     "metadata": {},
     "output_type": "display_data"
    },
    {
     "data": {
      "image/png": "[encoded data removed]",
      "text/plain": [
       "Plot with title “pca_results”"
      ]
     },
     "metadata": {},
     "output_type": "display_data"
    },
    {
     "data": {
      "image/png": "[encoded data removed]",
      "text/plain": [
       "plot without title"
      ]
     },
     "metadata": {},
     "output_type": "display_data"
    }
   ],
   "source": [
    "pca_results <- prcomp(pca_data_imputed, scale. = T)\n",
    "\n",
    "summary(pca_results)\n",
    "plot(pca_results,type='l')\n",
    "\n",
    "plot((summary(pca_results))$importance[3,],type='b',\n",
    "xlab = \"Component\", ylab = \"Cumulative Variance\")"
   ]
  },
  {
   "cell_type": "code",
   "execution_count": 10,
   "metadata": {},
   "outputs": [
    {
     "ename": "ERROR",
     "evalue": "Error in -c(names(pca_data)): invalid argument to unary operator\n",
     "output_type": "error",
     "traceback": [
      "Error in -c(names(pca_data)): invalid argument to unary operator\nTraceback:\n",
      "1. data[-c(names(pca_data))]",
      "2. `[.data.frame`(data, -c(names(pca_data)))"
     ]
    }
   ],
   "source": [
    "data[-c(names(pca_data))]"
   ]
  },
  {
   "cell_type": "code",
   "execution_count": 13,
   "metadata": {},
   "outputs": [
    {
     "ename": "ERROR",
     "evalue": "Error in scale(pca_data_imputed[c(1, 2, 3, 5)]): object 'pca_data_imputed' not found\n",
     "output_type": "error",
     "traceback": [
      "Error in scale(pca_data_imputed[c(1, 2, 3, 5)]): object 'pca_data_imputed' not found\nTraceback:\n",
      "1. scale(pca_data_imputed[c(1, 2, 3, 5)])"
     ]
    }
   ],
   "source": [
    "scaled_pca_data <- scale(pca_data_imputed[c(1,2,3,5)])\n",
    "\n",
    "db <- dbscan(scaled_pca_data, eps = 2, MinPts = 300)\n",
    "\n",
    "unique(db$cluster)\n",
    "\n",
    "table(db$cluster,pca_data[[7]])"
   ]
  }
 ],
 "metadata": {
  "kernelspec": {
   "display_name": "R",
   "language": "R",
   "name": "ir"
  },
  "language_info": {
   "codemirror_mode": "r",
   "file_extension": ".r",
   "mimetype": "text/x-r-source",
   "name": "R",
   "pygments_lexer": "r",
   "version": "3.5.1"
  }
 },
 "nbformat": 4,
 "nbformat_minor": 2
}
